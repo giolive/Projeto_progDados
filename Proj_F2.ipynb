{
 "cells": [
  {
   "cell_type": "code",
   "execution_count": 1,
   "metadata": {},
   "outputs": [],
   "source": [
    "import pandas as pd\n",
    "import numpy as np"
   ]
  },
  {
   "cell_type": "markdown",
   "metadata": {},
   "source": [
    "### Carregamento dos dados e informações."
   ]
  },
  {
   "cell_type": "markdown",
   "metadata": {},
   "source": [
    "######I# Após multiplas tentativas, precisei deixar apenas alguns jogos pois o csv inteiro é muito grande. Isso ja aconteceu na Fase1 deste projeto."
   ]
  },
  {
   "cell_type": "code",
   "execution_count": 2,
   "metadata": {},
   "outputs": [
    {
     "data": {
      "text/html": [
       "<div>\n",
       "<style scoped>\n",
       "    .dataframe tbody tr th:only-of-type {\n",
       "        vertical-align: middle;\n",
       "    }\n",
       "\n",
       "    .dataframe tbody tr th {\n",
       "        vertical-align: top;\n",
       "    }\n",
       "\n",
       "    .dataframe thead th {\n",
       "        text-align: right;\n",
       "    }\n",
       "</style>\n",
       "<table border=\"1\" class=\"dataframe\">\n",
       "  <thead>\n",
       "    <tr style=\"text-align: right;\">\n",
       "      <th></th>\n",
       "      <th>AppID</th>\n",
       "      <th>Name</th>\n",
       "      <th>Release date</th>\n",
       "      <th>Estimated owners</th>\n",
       "      <th>Peak CCU</th>\n",
       "      <th>Required age</th>\n",
       "      <th>Price</th>\n",
       "      <th>DLC count</th>\n",
       "      <th>About the game</th>\n",
       "      <th>Supported languages</th>\n",
       "      <th>...</th>\n",
       "      <th>Average playtime two weeks</th>\n",
       "      <th>Median playtime forever</th>\n",
       "      <th>Median playtime two weeks</th>\n",
       "      <th>Developers</th>\n",
       "      <th>Publishers</th>\n",
       "      <th>Categories</th>\n",
       "      <th>Genres</th>\n",
       "      <th>Tags</th>\n",
       "      <th>Screenshots</th>\n",
       "      <th>Movies</th>\n",
       "    </tr>\n",
       "  </thead>\n",
       "  <tbody>\n",
       "    <tr>\n",
       "      <th>0</th>\n",
       "      <td>20200</td>\n",
       "      <td>Galactic Bowling</td>\n",
       "      <td>Oct 21, 2008</td>\n",
       "      <td>0 - 20000</td>\n",
       "      <td>0</td>\n",
       "      <td>0</td>\n",
       "      <td>19.99</td>\n",
       "      <td>0</td>\n",
       "      <td>Galactic Bowling is an exaggerated and stylize...</td>\n",
       "      <td>['English']</td>\n",
       "      <td>...</td>\n",
       "      <td>0</td>\n",
       "      <td>0</td>\n",
       "      <td>0</td>\n",
       "      <td>Perpetual FX Creative</td>\n",
       "      <td>Perpetual FX Creative</td>\n",
       "      <td>Single-player,Multi-player,Steam Achievements,...</td>\n",
       "      <td>Casual,Indie,Sports</td>\n",
       "      <td>Indie,Casual,Sports,Bowling</td>\n",
       "      <td>https://cdn.akamai.steamstatic.com/steam/apps/...</td>\n",
       "      <td>http://cdn.akamai.steamstatic.com/steam/apps/2...</td>\n",
       "    </tr>\n",
       "    <tr>\n",
       "      <th>1</th>\n",
       "      <td>655370</td>\n",
       "      <td>Train Bandit</td>\n",
       "      <td>Oct 12, 2017</td>\n",
       "      <td>0 - 20000</td>\n",
       "      <td>0</td>\n",
       "      <td>0</td>\n",
       "      <td>0.99</td>\n",
       "      <td>0</td>\n",
       "      <td>THE LAW!! Looks to be a showdown atop a train....</td>\n",
       "      <td>['English', 'French', 'Italian', 'German', 'Sp...</td>\n",
       "      <td>...</td>\n",
       "      <td>0</td>\n",
       "      <td>0</td>\n",
       "      <td>0</td>\n",
       "      <td>Rusty Moyher</td>\n",
       "      <td>Wild Rooster</td>\n",
       "      <td>Single-player,Steam Achievements,Full controll...</td>\n",
       "      <td>Action,Indie</td>\n",
       "      <td>Indie,Action,Pixel Graphics,2D,Retro,Arcade,Sc...</td>\n",
       "      <td>https://cdn.akamai.steamstatic.com/steam/apps/...</td>\n",
       "      <td>http://cdn.akamai.steamstatic.com/steam/apps/2...</td>\n",
       "    </tr>\n",
       "    <tr>\n",
       "      <th>2</th>\n",
       "      <td>1732930</td>\n",
       "      <td>Jolt Project</td>\n",
       "      <td>Nov 17, 2021</td>\n",
       "      <td>0 - 20000</td>\n",
       "      <td>0</td>\n",
       "      <td>0</td>\n",
       "      <td>4.99</td>\n",
       "      <td>0</td>\n",
       "      <td>Jolt Project: The army now has a new robotics ...</td>\n",
       "      <td>['English', 'Portuguese - Brazil']</td>\n",
       "      <td>...</td>\n",
       "      <td>0</td>\n",
       "      <td>0</td>\n",
       "      <td>0</td>\n",
       "      <td>CampiÃ£o Games</td>\n",
       "      <td>CampiÃ£o Games</td>\n",
       "      <td>Single-player</td>\n",
       "      <td>Action,Adventure,Indie,Strategy</td>\n",
       "      <td>NaN</td>\n",
       "      <td>https://cdn.akamai.steamstatic.com/steam/apps/...</td>\n",
       "      <td>http://cdn.akamai.steamstatic.com/steam/apps/2...</td>\n",
       "    </tr>\n",
       "    <tr>\n",
       "      <th>3</th>\n",
       "      <td>1355720</td>\n",
       "      <td>Henosisâ„¢</td>\n",
       "      <td>Jul 23, 2020</td>\n",
       "      <td>0 - 20000</td>\n",
       "      <td>0</td>\n",
       "      <td>0</td>\n",
       "      <td>5.99</td>\n",
       "      <td>0</td>\n",
       "      <td>HENOSISâ„¢ is a mysterious 2D Platform Puzzler...</td>\n",
       "      <td>['English', 'French', 'Italian', 'German', 'Sp...</td>\n",
       "      <td>...</td>\n",
       "      <td>0</td>\n",
       "      <td>0</td>\n",
       "      <td>0</td>\n",
       "      <td>Odd Critter Games</td>\n",
       "      <td>Odd Critter Games</td>\n",
       "      <td>Single-player,Full controller support</td>\n",
       "      <td>Adventure,Casual,Indie</td>\n",
       "      <td>2D Platformer,Atmospheric,Surreal,Mystery,Puzz...</td>\n",
       "      <td>https://cdn.akamai.steamstatic.com/steam/apps/...</td>\n",
       "      <td>http://cdn.akamai.steamstatic.com/steam/apps/2...</td>\n",
       "    </tr>\n",
       "    <tr>\n",
       "      <th>4</th>\n",
       "      <td>1139950</td>\n",
       "      <td>Two Weeks in Painland</td>\n",
       "      <td>Feb 3, 2020</td>\n",
       "      <td>0 - 20000</td>\n",
       "      <td>0</td>\n",
       "      <td>0</td>\n",
       "      <td>0.00</td>\n",
       "      <td>0</td>\n",
       "      <td>ABOUT THE GAME Play as a hacker who has arrang...</td>\n",
       "      <td>['English', 'Spanish - Spain']</td>\n",
       "      <td>...</td>\n",
       "      <td>0</td>\n",
       "      <td>0</td>\n",
       "      <td>0</td>\n",
       "      <td>Unusual Games</td>\n",
       "      <td>Unusual Games</td>\n",
       "      <td>Single-player,Steam Achievements</td>\n",
       "      <td>Adventure,Indie</td>\n",
       "      <td>Indie,Adventure,Nudity,Violent,Sexual Content,...</td>\n",
       "      <td>https://cdn.akamai.steamstatic.com/steam/apps/...</td>\n",
       "      <td>http://cdn.akamai.steamstatic.com/steam/apps/2...</td>\n",
       "    </tr>\n",
       "  </tbody>\n",
       "</table>\n",
       "<p>5 rows × 39 columns</p>\n",
       "</div>"
      ],
      "text/plain": [
       "     AppID                   Name  Release date Estimated owners  Peak CCU  \\\n",
       "0    20200       Galactic Bowling  Oct 21, 2008        0 - 20000         0   \n",
       "1   655370           Train Bandit  Oct 12, 2017        0 - 20000         0   \n",
       "2  1732930           Jolt Project  Nov 17, 2021        0 - 20000         0   \n",
       "3  1355720             Henosisâ„¢  Jul 23, 2020        0 - 20000         0   \n",
       "4  1139950  Two Weeks in Painland   Feb 3, 2020        0 - 20000         0   \n",
       "\n",
       "   Required age  Price  DLC count  \\\n",
       "0             0  19.99          0   \n",
       "1             0   0.99          0   \n",
       "2             0   4.99          0   \n",
       "3             0   5.99          0   \n",
       "4             0   0.00          0   \n",
       "\n",
       "                                      About the game  \\\n",
       "0  Galactic Bowling is an exaggerated and stylize...   \n",
       "1  THE LAW!! Looks to be a showdown atop a train....   \n",
       "2  Jolt Project: The army now has a new robotics ...   \n",
       "3  HENOSISâ„¢ is a mysterious 2D Platform Puzzler...   \n",
       "4  ABOUT THE GAME Play as a hacker who has arrang...   \n",
       "\n",
       "                                 Supported languages  ...  \\\n",
       "0                                        ['English']  ...   \n",
       "1  ['English', 'French', 'Italian', 'German', 'Sp...  ...   \n",
       "2                 ['English', 'Portuguese - Brazil']  ...   \n",
       "3  ['English', 'French', 'Italian', 'German', 'Sp...  ...   \n",
       "4                     ['English', 'Spanish - Spain']  ...   \n",
       "\n",
       "  Average playtime two weeks Median playtime forever  \\\n",
       "0                          0                       0   \n",
       "1                          0                       0   \n",
       "2                          0                       0   \n",
       "3                          0                       0   \n",
       "4                          0                       0   \n",
       "\n",
       "  Median playtime two weeks             Developers             Publishers  \\\n",
       "0                         0  Perpetual FX Creative  Perpetual FX Creative   \n",
       "1                         0           Rusty Moyher           Wild Rooster   \n",
       "2                         0         CampiÃ£o Games         CampiÃ£o Games   \n",
       "3                         0      Odd Critter Games      Odd Critter Games   \n",
       "4                         0          Unusual Games          Unusual Games   \n",
       "\n",
       "                                          Categories  \\\n",
       "0  Single-player,Multi-player,Steam Achievements,...   \n",
       "1  Single-player,Steam Achievements,Full controll...   \n",
       "2                                      Single-player   \n",
       "3              Single-player,Full controller support   \n",
       "4                   Single-player,Steam Achievements   \n",
       "\n",
       "                            Genres  \\\n",
       "0              Casual,Indie,Sports   \n",
       "1                     Action,Indie   \n",
       "2  Action,Adventure,Indie,Strategy   \n",
       "3           Adventure,Casual,Indie   \n",
       "4                  Adventure,Indie   \n",
       "\n",
       "                                                Tags  \\\n",
       "0                        Indie,Casual,Sports,Bowling   \n",
       "1  Indie,Action,Pixel Graphics,2D,Retro,Arcade,Sc...   \n",
       "2                                                NaN   \n",
       "3  2D Platformer,Atmospheric,Surreal,Mystery,Puzz...   \n",
       "4  Indie,Adventure,Nudity,Violent,Sexual Content,...   \n",
       "\n",
       "                                         Screenshots  \\\n",
       "0  https://cdn.akamai.steamstatic.com/steam/apps/...   \n",
       "1  https://cdn.akamai.steamstatic.com/steam/apps/...   \n",
       "2  https://cdn.akamai.steamstatic.com/steam/apps/...   \n",
       "3  https://cdn.akamai.steamstatic.com/steam/apps/...   \n",
       "4  https://cdn.akamai.steamstatic.com/steam/apps/...   \n",
       "\n",
       "                                              Movies  \n",
       "0  http://cdn.akamai.steamstatic.com/steam/apps/2...  \n",
       "1  http://cdn.akamai.steamstatic.com/steam/apps/2...  \n",
       "2  http://cdn.akamai.steamstatic.com/steam/apps/2...  \n",
       "3  http://cdn.akamai.steamstatic.com/steam/apps/2...  \n",
       "4  http://cdn.akamai.steamstatic.com/steam/apps/2...  \n",
       "\n",
       "[5 rows x 39 columns]"
      ]
     },
     "execution_count": 2,
     "metadata": {},
     "output_type": "execute_result"
    }
   ],
   "source": [
    "df = pd.read_csv('./steam_games.csv', encoding='utf-8')\n",
    "df.head()"
   ]
  },
  {
   "cell_type": "code",
   "execution_count": 3,
   "metadata": {},
   "outputs": [
    {
     "name": "stdout",
     "output_type": "stream",
     "text": [
      "<class 'pandas.core.frame.DataFrame'>\n",
      "RangeIndex: 699 entries, 0 to 698\n",
      "Data columns (total 39 columns):\n",
      " #   Column                      Non-Null Count  Dtype  \n",
      "---  ------                      --------------  -----  \n",
      " 0   AppID                       699 non-null    int64  \n",
      " 1   Name                        699 non-null    object \n",
      " 2   Release date                699 non-null    object \n",
      " 3   Estimated owners            699 non-null    object \n",
      " 4   Peak CCU                    699 non-null    int64  \n",
      " 5   Required age                699 non-null    int64  \n",
      " 6   Price                       699 non-null    float64\n",
      " 7   DLC count                   699 non-null    int64  \n",
      " 8   About the game              687 non-null    object \n",
      " 9   Supported languages         699 non-null    object \n",
      " 10  Full audio languages        699 non-null    object \n",
      " 11  Reviews                     92 non-null     object \n",
      " 12  Header image                699 non-null    object \n",
      " 13  Website                     381 non-null    object \n",
      " 14  Support url                 368 non-null    object \n",
      " 15  Support email               592 non-null    object \n",
      " 16  Windows                     699 non-null    bool   \n",
      " 17  Mac                         699 non-null    bool   \n",
      " 18  Linux                       699 non-null    bool   \n",
      " 19  Metacritic score            699 non-null    int64  \n",
      " 20  Metacritic url              35 non-null     object \n",
      " 21  User score                  699 non-null    int64  \n",
      " 22  Positive                    699 non-null    int64  \n",
      " 23  Negative                    699 non-null    int64  \n",
      " 24  Score rank                  1 non-null      float64\n",
      " 25  Achievements                699 non-null    int64  \n",
      " 26  Recommendations             699 non-null    int64  \n",
      " 27  Notes                       104 non-null    object \n",
      " 28  Average playtime forever    699 non-null    int64  \n",
      " 29  Average playtime two weeks  699 non-null    int64  \n",
      " 30  Median playtime forever     699 non-null    int64  \n",
      " 31  Median playtime two weeks   699 non-null    int64  \n",
      " 32  Developers                  686 non-null    object \n",
      " 33  Publishers                  683 non-null    object \n",
      " 34  Categories                  679 non-null    object \n",
      " 35  Genres                      686 non-null    object \n",
      " 36  Tags                        611 non-null    object \n",
      " 37  Screenshots                 691 non-null    object \n",
      " 38  Movies                      660 non-null    object \n",
      "dtypes: bool(3), float64(2), int64(14), object(20)\n",
      "memory usage: 198.8+ KB\n"
     ]
    }
   ],
   "source": [
    "df.info()"
   ]
  },
  {
   "cell_type": "markdown",
   "metadata": {},
   "source": [
    "### Como tem muitos tipos diferentes de dados, preciso do dtypes do Metacritic (primeira questão)."
   ]
  },
  {
   "cell_type": "code",
   "execution_count": 4,
   "metadata": {},
   "outputs": [
    {
     "data": {
      "text/plain": [
       "dtype('int64')"
      ]
     },
     "execution_count": 4,
     "metadata": {},
     "output_type": "execute_result"
    }
   ],
   "source": [
    "df['Metacritic score'].dtypes"
   ]
  },
  {
   "cell_type": "code",
   "execution_count": 5,
   "metadata": {},
   "outputs": [
    {
     "data": {
      "text/plain": [
       "dtype('O')"
      ]
     },
     "execution_count": 5,
     "metadata": {},
     "output_type": "execute_result"
    }
   ],
   "source": [
    "df['Release date'].dtypes"
   ]
  },
  {
   "cell_type": "code",
   "execution_count": 6,
   "metadata": {},
   "outputs": [
    {
     "data": {
      "text/plain": [
       "0    Oct 21, 2008\n",
       "1    Oct 12, 2017\n",
       "2    Nov 17, 2021\n",
       "3    Jul 23, 2020\n",
       "4     Feb 3, 2020\n",
       "Name: Release date, dtype: object"
      ]
     },
     "execution_count": 6,
     "metadata": {},
     "output_type": "execute_result"
    }
   ],
   "source": [
    "df['Release date'].head()"
   ]
  },
  {
   "cell_type": "markdown",
   "metadata": {},
   "source": [
    "##### Pergunta1: Quais são os dez jogos mais bem avaliados, de acordo com o Metacritic? EM caso de notas repetidas, ordenar os jogos de acordo com suas datas de lançamento (mais velho para mais recente)."
   ]
  },
  {
   "cell_type": "code",
   "execution_count": 7,
   "metadata": {},
   "outputs": [
    {
     "data": {
      "text/html": [
       "<div>\n",
       "<style scoped>\n",
       "    .dataframe tbody tr th:only-of-type {\n",
       "        vertical-align: middle;\n",
       "    }\n",
       "\n",
       "    .dataframe tbody tr th {\n",
       "        vertical-align: top;\n",
       "    }\n",
       "\n",
       "    .dataframe thead th {\n",
       "        text-align: right;\n",
       "    }\n",
       "</style>\n",
       "<table border=\"1\" class=\"dataframe\">\n",
       "  <thead>\n",
       "    <tr style=\"text-align: right;\">\n",
       "      <th></th>\n",
       "      <th>Name</th>\n",
       "      <th>Metacritic score</th>\n",
       "      <th>Release date</th>\n",
       "    </tr>\n",
       "  </thead>\n",
       "  <tbody>\n",
       "    <tr>\n",
       "      <th>136</th>\n",
       "      <td>Call of Duty® 4: Modern Warfare®</td>\n",
       "      <td>92</td>\n",
       "      <td>Nov 12, 2007</td>\n",
       "    </tr>\n",
       "    <tr>\n",
       "      <th>66</th>\n",
       "      <td>Max Payne</td>\n",
       "      <td>89</td>\n",
       "      <td>Jan 6, 2011</td>\n",
       "    </tr>\n",
       "    <tr>\n",
       "      <th>119</th>\n",
       "      <td>Ragnarock</td>\n",
       "      <td>87</td>\n",
       "      <td>Jul 15, 2021</td>\n",
       "    </tr>\n",
       "    <tr>\n",
       "      <th>521</th>\n",
       "      <td>Mini Motorways</td>\n",
       "      <td>87</td>\n",
       "      <td>Jul 20, 2021</td>\n",
       "    </tr>\n",
       "    <tr>\n",
       "      <th>659</th>\n",
       "      <td>Super Meat Boy</td>\n",
       "      <td>87</td>\n",
       "      <td>Nov 30, 2010</td>\n",
       "    </tr>\n",
       "    <tr>\n",
       "      <th>96</th>\n",
       "      <td>Oxygen Not Included</td>\n",
       "      <td>86</td>\n",
       "      <td>Jul 30, 2019</td>\n",
       "    </tr>\n",
       "    <tr>\n",
       "      <th>638</th>\n",
       "      <td>Rakuen</td>\n",
       "      <td>84</td>\n",
       "      <td>May 10, 2017</td>\n",
       "    </tr>\n",
       "    <tr>\n",
       "      <th>44</th>\n",
       "      <td>Reigns: Game of Thrones</td>\n",
       "      <td>84</td>\n",
       "      <td>Oct 18, 2018</td>\n",
       "    </tr>\n",
       "    <tr>\n",
       "      <th>249</th>\n",
       "      <td>Xpand Rally</td>\n",
       "      <td>82</td>\n",
       "      <td>Aug 24, 2006</td>\n",
       "    </tr>\n",
       "    <tr>\n",
       "      <th>187</th>\n",
       "      <td>The Legend of Heroes: Trails of Cold Steel II</td>\n",
       "      <td>81</td>\n",
       "      <td>Feb 14, 2018</td>\n",
       "    </tr>\n",
       "  </tbody>\n",
       "</table>\n",
       "</div>"
      ],
      "text/plain": [
       "                                              Name  Metacritic score  \\\n",
       "136               Call of Duty® 4: Modern Warfare®                92   \n",
       "66                                       Max Payne                89   \n",
       "119                                      Ragnarock                87   \n",
       "521                                 Mini Motorways                87   \n",
       "659                                 Super Meat Boy                87   \n",
       "96                             Oxygen Not Included                86   \n",
       "638                                         Rakuen                84   \n",
       "44                         Reigns: Game of Thrones                84   \n",
       "249                                    Xpand Rally                82   \n",
       "187  The Legend of Heroes: Trails of Cold Steel II                81   \n",
       "\n",
       "     Release date  \n",
       "136  Nov 12, 2007  \n",
       "66    Jan 6, 2011  \n",
       "119  Jul 15, 2021  \n",
       "521  Jul 20, 2021  \n",
       "659  Nov 30, 2010  \n",
       "96   Jul 30, 2019  \n",
       "638  May 10, 2017  \n",
       "44   Oct 18, 2018  \n",
       "249  Aug 24, 2006  \n",
       "187  Feb 14, 2018  "
      ]
     },
     "execution_count": 7,
     "metadata": {},
     "output_type": "execute_result"
    }
   ],
   "source": [
    "# Ordenar e selecionar os 10 jogos com maior Metacritic score\n",
    "top_10 = df.sort_values(by=['Metacritic score', 'Release date'], ascending=[False, True]).head(10)\n",
    "\n",
    "top_10[['Name', 'Metacritic score', 'Release date']]"
   ]
  },
  {
   "cell_type": "markdown",
   "metadata": {},
   "source": [
    "#### Pergunta2: Para jogos de role-playing, qual o número médio e máximo de DLCs, avaliaçõespositivas, avaliações negativas e materiais de demonstração (numero de capturas e filmes somados)?"
   ]
  },
  {
   "cell_type": "code",
   "execution_count": 8,
   "metadata": {},
   "outputs": [
    {
     "data": {
      "text/plain": [
       "0                Casual,Indie,Sports\n",
       "1                       Action,Indie\n",
       "2    Action,Adventure,Indie,Strategy\n",
       "3             Adventure,Casual,Indie\n",
       "4                    Adventure,Indie\n",
       "Name: Genres, dtype: object"
      ]
     },
     "execution_count": 8,
     "metadata": {},
     "output_type": "execute_result"
    }
   ],
   "source": [
    "df['Genres'].head()"
   ]
  },
  {
   "cell_type": "markdown",
   "metadata": {},
   "source": [
    "#### Jogos role-play normalmente são os RPGs e MMORPG."
   ]
  },
  {
   "cell_type": "code",
   "execution_count": 9,
   "metadata": {},
   "outputs": [
    {
     "name": "stdout",
     "output_type": "stream",
     "text": [
      "Número de jogos RPG e MMORPG detectados: 113\n"
     ]
    }
   ],
   "source": [
    "# Verificar quantos jogos contêm 'RPG' ou 'MMORPG'\n",
    "count_rpg_mmorpg = df['Genres'].str.contains('RPG|MMORPG', case=False, na=False).sum()\n",
    "\n",
    "print(f\"Número de jogos RPG e MMORPG detectados: {count_rpg_mmorpg}\")"
   ]
  },
  {
   "cell_type": "markdown",
   "metadata": {},
   "source": [
    "#### Utilizando os métodos mean e max para obter a resposta sobre a média e máximo de DLCs e avaliações positivas e negativas."
   ]
  },
  {
   "cell_type": "code",
   "execution_count": 10,
   "metadata": {},
   "outputs": [],
   "source": [
    "# Filtrar jogos com os gêneros 'RPG' ou 'MMORPG'\n",
    "filtered_df = df[df['Genres'].str.contains('RPG|MMORPG', case=False, na=False)]\n"
   ]
  },
  {
   "cell_type": "code",
   "execution_count": 11,
   "metadata": {},
   "outputs": [
    {
     "name": "stdout",
     "output_type": "stream",
     "text": [
      "Média de DLCs: 0.39\n",
      "Número máximo de DLCs: 13.00\n",
      "Média de Avaliações Positivas: 423.66\n",
      "Número máximo de Avaliações Positivas: 19370.00\n",
      "Média de Avaliações Negativas: 104.63\n",
      "Número máximo de Avaliações Negativas: 5757.00\n"
     ]
    }
   ],
   "source": [
    "# Excluir NaN ou valores vazios nas colunas de interesse antes de calcular\n",
    "filtered_df_dados = filtered_df[filtered_df['DLC count'].notna() & \n",
    "                                  filtered_df['Positive'].notna() & \n",
    "                                  filtered_df['Negative'].notna()]\n",
    "\n",
    "mean_dlcs = filtered_df_dados['DLC count'].mean()\n",
    "max_dlcs = filtered_df_dados['DLC count'].max()\n",
    "mean_pos = filtered_df_dados['Positive'].mean()\n",
    "max_pos = filtered_df_dados['Positive'].max()\n",
    "mean_neg = filtered_df_dados['Negative'].mean()\n",
    "max_neg = filtered_df_dados['Negative'].max()\n",
    "\n",
    "print(f\"Média de DLCs: {mean_dlcs:.2f}\")\n",
    "print(f\"Número máximo de DLCs: {max_dlcs:.2f}\")\n",
    "print(f\"Média de Avaliações Positivas: {mean_pos:.2f}\")\n",
    "print(f\"Número máximo de Avaliações Positivas: {max_pos:.2f}\")\n",
    "print(f\"Média de Avaliações Negativas: {mean_neg:.2f}\")\n",
    "print(f\"Número máximo de Avaliações Negativas: {max_neg:.2f}\")"
   ]
  },
  {
   "cell_type": "code",
   "execution_count": 12,
   "metadata": {},
   "outputs": [
    {
     "data": {
      "text/plain": [
       "0    https://cdn.akamai.steamstatic.com/steam/apps/...\n",
       "1    https://cdn.akamai.steamstatic.com/steam/apps/...\n",
       "2    https://cdn.akamai.steamstatic.com/steam/apps/...\n",
       "3    https://cdn.akamai.steamstatic.com/steam/apps/...\n",
       "4    https://cdn.akamai.steamstatic.com/steam/apps/...\n",
       "Name: Screenshots, dtype: object"
      ]
     },
     "execution_count": 12,
     "metadata": {},
     "output_type": "execute_result"
    }
   ],
   "source": [
    "df['Screenshots'].head()"
   ]
  },
  {
   "cell_type": "markdown",
   "metadata": {},
   "source": [
    "#### Tive problemas com a coluna Movies, pois estava com muito espaço em branco. Tentei de diversas formas retirar essa tabulação  col.str.replace('\\t', ' ',), mas não funcionou. Acabei fazendo isso manualmente."
   ]
  },
  {
   "cell_type": "code",
   "execution_count": 13,
   "metadata": {},
   "outputs": [
    {
     "data": {
      "text/plain": [
       "0    http://cdn.akamai.steamstatic.com/steam/apps/2...\n",
       "1    http://cdn.akamai.steamstatic.com/steam/apps/2...\n",
       "2    http://cdn.akamai.steamstatic.com/steam/apps/2...\n",
       "3    http://cdn.akamai.steamstatic.com/steam/apps/2...\n",
       "4    http://cdn.akamai.steamstatic.com/steam/apps/2...\n",
       "Name: Movies, dtype: object"
      ]
     },
     "execution_count": 13,
     "metadata": {},
     "output_type": "execute_result"
    }
   ],
   "source": [
    "df['Movies'].head()"
   ]
  },
  {
   "cell_type": "markdown",
   "metadata": {},
   "source": [
    "#### Inicialmente tentei filtrar as colunas e diretamente mas obtive aviso SettingWithCopyWarning. Pra tentar resolver criei .copy() para criar um novo DataFrame independente do original."
   ]
  },
  {
   "cell_type": "code",
   "execution_count": 14,
   "metadata": {},
   "outputs": [
    {
     "data": {
      "text/html": [
       "<div>\n",
       "<style scoped>\n",
       "    .dataframe tbody tr th:only-of-type {\n",
       "        vertical-align: middle;\n",
       "    }\n",
       "\n",
       "    .dataframe tbody tr th {\n",
       "        vertical-align: top;\n",
       "    }\n",
       "\n",
       "    .dataframe thead th {\n",
       "        text-align: right;\n",
       "    }\n",
       "</style>\n",
       "<table border=\"1\" class=\"dataframe\">\n",
       "  <thead>\n",
       "    <tr style=\"text-align: right;\">\n",
       "      <th></th>\n",
       "      <th>Name</th>\n",
       "      <th>Genres</th>\n",
       "      <th>Screenshots</th>\n",
       "      <th>Movies</th>\n",
       "      <th>Demonstração</th>\n",
       "    </tr>\n",
       "  </thead>\n",
       "  <tbody>\n",
       "    <tr>\n",
       "      <th>5</th>\n",
       "      <td>Wartune Reborn</td>\n",
       "      <td>Adventure,Casual,Free to Play,Massively Multip...</td>\n",
       "      <td>https://cdn.akamai.steamstatic.com/steam/apps/...</td>\n",
       "      <td>http://cdn.akamai.steamstatic.com/steam/apps/2...</td>\n",
       "      <td>13</td>\n",
       "    </tr>\n",
       "    <tr>\n",
       "      <th>8</th>\n",
       "      <td>MazM: Jekyll and Hyde</td>\n",
       "      <td>Adventure,RPG,Simulation,Strategy</td>\n",
       "      <td>https://cdn.akamai.steamstatic.com/steam/apps/...</td>\n",
       "      <td>http://cdn.akamai.steamstatic.com/steam/apps/2...</td>\n",
       "      <td>6</td>\n",
       "    </tr>\n",
       "    <tr>\n",
       "      <th>10</th>\n",
       "      <td>WARSAW</td>\n",
       "      <td>Indie,RPG</td>\n",
       "      <td>https://cdn.akamai.steamstatic.com/steam/apps/...</td>\n",
       "      <td>http://cdn.akamai.steamstatic.com/steam/apps/2...</td>\n",
       "      <td>10</td>\n",
       "    </tr>\n",
       "    <tr>\n",
       "      <th>14</th>\n",
       "      <td>Diary of Lucie</td>\n",
       "      <td>Action,Adventure,Indie,RPG,Strategy,Early Access</td>\n",
       "      <td>https://cdn.akamai.steamstatic.com/steam/apps/...</td>\n",
       "      <td>http://cdn.akamai.steamstatic.com/steam/apps/2...</td>\n",
       "      <td>13</td>\n",
       "    </tr>\n",
       "    <tr>\n",
       "      <th>17</th>\n",
       "      <td>Hero of the Kingdom II</td>\n",
       "      <td>Adventure,Casual,Indie,RPG</td>\n",
       "      <td>https://cdn.akamai.steamstatic.com/steam/apps/...</td>\n",
       "      <td>http://cdn.akamai.steamstatic.com/steam/apps/2...</td>\n",
       "      <td>10</td>\n",
       "    </tr>\n",
       "    <tr>\n",
       "      <th>...</th>\n",
       "      <td>...</td>\n",
       "      <td>...</td>\n",
       "      <td>...</td>\n",
       "      <td>...</td>\n",
       "      <td>...</td>\n",
       "    </tr>\n",
       "    <tr>\n",
       "      <th>652</th>\n",
       "      <td>火柴人联盟2</td>\n",
       "      <td>Action,Adventure,Free to Play,Massively Multip...</td>\n",
       "      <td>https://cdn.akamai.steamstatic.com/steam/apps/...</td>\n",
       "      <td>http://cdn.akamai.steamstatic.com/steam/apps/2...</td>\n",
       "      <td>6</td>\n",
       "    </tr>\n",
       "    <tr>\n",
       "      <th>671</th>\n",
       "      <td>Dungeons and Dinners</td>\n",
       "      <td>Adventure,Casual,Indie,RPG,Strategy,Early Access</td>\n",
       "      <td>https://cdn.akamai.steamstatic.com/steam/apps/...</td>\n",
       "      <td>http://cdn.akamai.steamstatic.com/steam/apps/2...</td>\n",
       "      <td>6</td>\n",
       "    </tr>\n",
       "    <tr>\n",
       "      <th>683</th>\n",
       "      <td>יום פתוח (Open Day)</td>\n",
       "      <td>Adventure,Indie,RPG</td>\n",
       "      <td>https://cdn.akamai.steamstatic.com/steam/apps/...</td>\n",
       "      <td>http://cdn.akamai.steamstatic.com/steam/apps/2...</td>\n",
       "      <td>22</td>\n",
       "    </tr>\n",
       "    <tr>\n",
       "      <th>694</th>\n",
       "      <td>The Advisor - Episode 1: Royal Pain</td>\n",
       "      <td>Adventure,RPG,Simulation</td>\n",
       "      <td>https://cdn.akamai.steamstatic.com/steam/apps/...</td>\n",
       "      <td>http://cdn.akamai.steamstatic.com/steam/apps/2...</td>\n",
       "      <td>6</td>\n",
       "    </tr>\n",
       "    <tr>\n",
       "      <th>695</th>\n",
       "      <td>Faye: A Tale of Shadow</td>\n",
       "      <td>Adventure,Indie,RPG,Strategy</td>\n",
       "      <td>https://cdn.akamai.steamstatic.com/steam/apps/...</td>\n",
       "      <td>http://cdn.akamai.steamstatic.com/steam/apps/2...</td>\n",
       "      <td>16</td>\n",
       "    </tr>\n",
       "  </tbody>\n",
       "</table>\n",
       "<p>113 rows × 5 columns</p>\n",
       "</div>"
      ],
      "text/plain": [
       "                                    Name  \\\n",
       "5                         Wartune Reborn   \n",
       "8                  MazM: Jekyll and Hyde   \n",
       "10                                WARSAW   \n",
       "14                        Diary of Lucie   \n",
       "17                Hero of the Kingdom II   \n",
       "..                                   ...   \n",
       "652                               火柴人联盟2   \n",
       "671                 Dungeons and Dinners   \n",
       "683                  יום פתוח (Open Day)   \n",
       "694  The Advisor - Episode 1: Royal Pain   \n",
       "695               Faye: A Tale of Shadow   \n",
       "\n",
       "                                                Genres  \\\n",
       "5    Adventure,Casual,Free to Play,Massively Multip...   \n",
       "8                    Adventure,RPG,Simulation,Strategy   \n",
       "10                                           Indie,RPG   \n",
       "14    Action,Adventure,Indie,RPG,Strategy,Early Access   \n",
       "17                          Adventure,Casual,Indie,RPG   \n",
       "..                                                 ...   \n",
       "652  Action,Adventure,Free to Play,Massively Multip...   \n",
       "671   Adventure,Casual,Indie,RPG,Strategy,Early Access   \n",
       "683                                Adventure,Indie,RPG   \n",
       "694                           Adventure,RPG,Simulation   \n",
       "695                       Adventure,Indie,RPG,Strategy   \n",
       "\n",
       "                                           Screenshots  \\\n",
       "5    https://cdn.akamai.steamstatic.com/steam/apps/...   \n",
       "8    https://cdn.akamai.steamstatic.com/steam/apps/...   \n",
       "10   https://cdn.akamai.steamstatic.com/steam/apps/...   \n",
       "14   https://cdn.akamai.steamstatic.com/steam/apps/...   \n",
       "17   https://cdn.akamai.steamstatic.com/steam/apps/...   \n",
       "..                                                 ...   \n",
       "652  https://cdn.akamai.steamstatic.com/steam/apps/...   \n",
       "671  https://cdn.akamai.steamstatic.com/steam/apps/...   \n",
       "683  https://cdn.akamai.steamstatic.com/steam/apps/...   \n",
       "694  https://cdn.akamai.steamstatic.com/steam/apps/...   \n",
       "695  https://cdn.akamai.steamstatic.com/steam/apps/...   \n",
       "\n",
       "                                                Movies  Demonstração  \n",
       "5    http://cdn.akamai.steamstatic.com/steam/apps/2...            13  \n",
       "8    http://cdn.akamai.steamstatic.com/steam/apps/2...             6  \n",
       "10   http://cdn.akamai.steamstatic.com/steam/apps/2...            10  \n",
       "14   http://cdn.akamai.steamstatic.com/steam/apps/2...            13  \n",
       "17   http://cdn.akamai.steamstatic.com/steam/apps/2...            10  \n",
       "..                                                 ...           ...  \n",
       "652  http://cdn.akamai.steamstatic.com/steam/apps/2...             6  \n",
       "671  http://cdn.akamai.steamstatic.com/steam/apps/2...             6  \n",
       "683  http://cdn.akamai.steamstatic.com/steam/apps/2...            22  \n",
       "694  http://cdn.akamai.steamstatic.com/steam/apps/2...             6  \n",
       "695  http://cdn.akamai.steamstatic.com/steam/apps/2...            16  \n",
       "\n",
       "[113 rows x 5 columns]"
      ]
     },
     "execution_count": 14,
     "metadata": {},
     "output_type": "execute_result"
    }
   ],
   "source": [
    "# Filtrar e criar uma cópia explícita do DataFrame\n",
    "filtered_df = df[df['Genres'].str.contains('RPG|MMORPG', case=False, na=False)].copy()\n",
    "\n",
    "filtered_df['Screenshots'] = filtered_df['Screenshots'].fillna('').astype(str)\n",
    "filtered_df['Movies'] = filtered_df['Movies'].fillna('').astype(str)\n",
    "\n",
    "filtered_df['Screenshots_count'] = filtered_df['Screenshots'].str.split(',').apply(len)\n",
    "filtered_df['Movies_count'] = filtered_df['Movies'].str.split(',').apply(len)\n",
    "\n",
    "# Criar a nova coluna\n",
    "filtered_df['Demonstração'] = filtered_df['Screenshots_count'] + filtered_df['Movies_count']\n",
    "\n",
    "filtered_df[['Name','Genres', 'Screenshots', 'Movies', 'Demonstração']]"
   ]
  },
  {
   "cell_type": "code",
   "execution_count": 15,
   "metadata": {},
   "outputs": [
    {
     "name": "stdout",
     "output_type": "stream",
     "text": [
      "Média de Demonstrações: 11.78\n",
      "Número máximo de Demonstrações: 68.00\n"
     ]
    }
   ],
   "source": [
    "mean_demo = filtered_df['Demonstração'].mean()\n",
    "max_demo = filtered_df['Demonstração'].max()\n",
    "\n",
    "\n",
    "print(f\"Média de Demonstrações: {mean_demo:.2f}\")\n",
    "print(f\"Número máximo de Demonstrações: {max_demo:.2f}\")"
   ]
  },
  {
   "cell_type": "markdown",
   "metadata": {},
   "source": [
    "#### Pergunta3: Quais são as empresas que mais publicam jogos pagos na plataforma? Para tais, qual o numero médio e mediano de avaliações positivas? "
   ]
  },
  {
   "cell_type": "code",
   "execution_count": 16,
   "metadata": {},
   "outputs": [
    {
     "data": {
      "text/plain": [
       "0    Perpetual FX Creative\n",
       "1             Wild Rooster\n",
       "2           CampiÃ£o Games\n",
       "3        Odd Critter Games\n",
       "4            Unusual Games\n",
       "Name: Publishers, dtype: object"
      ]
     },
     "execution_count": 16,
     "metadata": {},
     "output_type": "execute_result"
    }
   ],
   "source": [
    "# Coluna 'Publishers' são as empresas que publicam.\n",
    "df['Publishers'].head()"
   ]
  },
  {
   "cell_type": "code",
   "execution_count": 17,
   "metadata": {},
   "outputs": [
    {
     "data": {
      "text/plain": [
       "0    19.99\n",
       "1     0.99\n",
       "2     4.99\n",
       "3     5.99\n",
       "4     0.00\n",
       "Name: Price, dtype: float64"
      ]
     },
     "execution_count": 17,
     "metadata": {},
     "output_type": "execute_result"
    }
   ],
   "source": [
    "df['Price'].head()"
   ]
  },
  {
   "cell_type": "code",
   "execution_count": 18,
   "metadata": {},
   "outputs": [
    {
     "data": {
      "text/html": [
       "<div>\n",
       "<style scoped>\n",
       "    .dataframe tbody tr th:only-of-type {\n",
       "        vertical-align: middle;\n",
       "    }\n",
       "\n",
       "    .dataframe tbody tr th {\n",
       "        vertical-align: top;\n",
       "    }\n",
       "\n",
       "    .dataframe thead th {\n",
       "        text-align: right;\n",
       "    }\n",
       "</style>\n",
       "<table border=\"1\" class=\"dataframe\">\n",
       "  <thead>\n",
       "    <tr style=\"text-align: right;\">\n",
       "      <th></th>\n",
       "      <th>AppID</th>\n",
       "      <th>Name</th>\n",
       "      <th>Release date</th>\n",
       "      <th>Estimated owners</th>\n",
       "      <th>Peak CCU</th>\n",
       "      <th>Required age</th>\n",
       "      <th>Price</th>\n",
       "      <th>DLC count</th>\n",
       "      <th>About the game</th>\n",
       "      <th>Supported languages</th>\n",
       "      <th>...</th>\n",
       "      <th>Average playtime two weeks</th>\n",
       "      <th>Median playtime forever</th>\n",
       "      <th>Median playtime two weeks</th>\n",
       "      <th>Developers</th>\n",
       "      <th>Publishers</th>\n",
       "      <th>Categories</th>\n",
       "      <th>Genres</th>\n",
       "      <th>Tags</th>\n",
       "      <th>Screenshots</th>\n",
       "      <th>Movies</th>\n",
       "    </tr>\n",
       "  </thead>\n",
       "  <tbody>\n",
       "    <tr>\n",
       "      <th>0</th>\n",
       "      <td>20200</td>\n",
       "      <td>Galactic Bowling</td>\n",
       "      <td>Oct 21, 2008</td>\n",
       "      <td>0 - 20000</td>\n",
       "      <td>0</td>\n",
       "      <td>0</td>\n",
       "      <td>19.99</td>\n",
       "      <td>0</td>\n",
       "      <td>Galactic Bowling is an exaggerated and stylize...</td>\n",
       "      <td>['English']</td>\n",
       "      <td>...</td>\n",
       "      <td>0</td>\n",
       "      <td>0</td>\n",
       "      <td>0</td>\n",
       "      <td>Perpetual FX Creative</td>\n",
       "      <td>Perpetual FX Creative</td>\n",
       "      <td>Single-player,Multi-player,Steam Achievements,...</td>\n",
       "      <td>Casual,Indie,Sports</td>\n",
       "      <td>Indie,Casual,Sports,Bowling</td>\n",
       "      <td>https://cdn.akamai.steamstatic.com/steam/apps/...</td>\n",
       "      <td>http://cdn.akamai.steamstatic.com/steam/apps/2...</td>\n",
       "    </tr>\n",
       "    <tr>\n",
       "      <th>1</th>\n",
       "      <td>655370</td>\n",
       "      <td>Train Bandit</td>\n",
       "      <td>Oct 12, 2017</td>\n",
       "      <td>0 - 20000</td>\n",
       "      <td>0</td>\n",
       "      <td>0</td>\n",
       "      <td>0.99</td>\n",
       "      <td>0</td>\n",
       "      <td>THE LAW!! Looks to be a showdown atop a train....</td>\n",
       "      <td>['English', 'French', 'Italian', 'German', 'Sp...</td>\n",
       "      <td>...</td>\n",
       "      <td>0</td>\n",
       "      <td>0</td>\n",
       "      <td>0</td>\n",
       "      <td>Rusty Moyher</td>\n",
       "      <td>Wild Rooster</td>\n",
       "      <td>Single-player,Steam Achievements,Full controll...</td>\n",
       "      <td>Action,Indie</td>\n",
       "      <td>Indie,Action,Pixel Graphics,2D,Retro,Arcade,Sc...</td>\n",
       "      <td>https://cdn.akamai.steamstatic.com/steam/apps/...</td>\n",
       "      <td>http://cdn.akamai.steamstatic.com/steam/apps/2...</td>\n",
       "    </tr>\n",
       "    <tr>\n",
       "      <th>2</th>\n",
       "      <td>1732930</td>\n",
       "      <td>Jolt Project</td>\n",
       "      <td>Nov 17, 2021</td>\n",
       "      <td>0 - 20000</td>\n",
       "      <td>0</td>\n",
       "      <td>0</td>\n",
       "      <td>4.99</td>\n",
       "      <td>0</td>\n",
       "      <td>Jolt Project: The army now has a new robotics ...</td>\n",
       "      <td>['English', 'Portuguese - Brazil']</td>\n",
       "      <td>...</td>\n",
       "      <td>0</td>\n",
       "      <td>0</td>\n",
       "      <td>0</td>\n",
       "      <td>CampiÃ£o Games</td>\n",
       "      <td>CampiÃ£o Games</td>\n",
       "      <td>Single-player</td>\n",
       "      <td>Action,Adventure,Indie,Strategy</td>\n",
       "      <td>NaN</td>\n",
       "      <td>https://cdn.akamai.steamstatic.com/steam/apps/...</td>\n",
       "      <td>http://cdn.akamai.steamstatic.com/steam/apps/2...</td>\n",
       "    </tr>\n",
       "    <tr>\n",
       "      <th>3</th>\n",
       "      <td>1355720</td>\n",
       "      <td>Henosisâ„¢</td>\n",
       "      <td>Jul 23, 2020</td>\n",
       "      <td>0 - 20000</td>\n",
       "      <td>0</td>\n",
       "      <td>0</td>\n",
       "      <td>5.99</td>\n",
       "      <td>0</td>\n",
       "      <td>HENOSISâ„¢ is a mysterious 2D Platform Puzzler...</td>\n",
       "      <td>['English', 'French', 'Italian', 'German', 'Sp...</td>\n",
       "      <td>...</td>\n",
       "      <td>0</td>\n",
       "      <td>0</td>\n",
       "      <td>0</td>\n",
       "      <td>Odd Critter Games</td>\n",
       "      <td>Odd Critter Games</td>\n",
       "      <td>Single-player,Full controller support</td>\n",
       "      <td>Adventure,Casual,Indie</td>\n",
       "      <td>2D Platformer,Atmospheric,Surreal,Mystery,Puzz...</td>\n",
       "      <td>https://cdn.akamai.steamstatic.com/steam/apps/...</td>\n",
       "      <td>http://cdn.akamai.steamstatic.com/steam/apps/2...</td>\n",
       "    </tr>\n",
       "    <tr>\n",
       "      <th>6</th>\n",
       "      <td>1659180</td>\n",
       "      <td>TD Worlds</td>\n",
       "      <td>Jan 9, 2022</td>\n",
       "      <td>0 - 20000</td>\n",
       "      <td>3</td>\n",
       "      <td>0</td>\n",
       "      <td>10.99</td>\n",
       "      <td>1</td>\n",
       "      <td>TD Worlds is a dynamic, highly strategical gam...</td>\n",
       "      <td>['English', 'Russian', 'Danish']</td>\n",
       "      <td>...</td>\n",
       "      <td>0</td>\n",
       "      <td>0</td>\n",
       "      <td>0</td>\n",
       "      <td>MAKSIM VOLKAU</td>\n",
       "      <td>MAKSIM VOLKAU</td>\n",
       "      <td>Single-player,Steam Achievements,Steam Cloud</td>\n",
       "      <td>Indie,Strategy</td>\n",
       "      <td>Tower Defense,Rogue-lite,RTS,Replay Value,Perm...</td>\n",
       "      <td>https://cdn.akamai.steamstatic.com/steam/apps/...</td>\n",
       "      <td>http://cdn.akamai.steamstatic.com/steam/apps/2...</td>\n",
       "    </tr>\n",
       "  </tbody>\n",
       "</table>\n",
       "<p>5 rows × 39 columns</p>\n",
       "</div>"
      ],
      "text/plain": [
       "     AppID              Name  Release date Estimated owners  Peak CCU  \\\n",
       "0    20200  Galactic Bowling  Oct 21, 2008        0 - 20000         0   \n",
       "1   655370      Train Bandit  Oct 12, 2017        0 - 20000         0   \n",
       "2  1732930      Jolt Project  Nov 17, 2021        0 - 20000         0   \n",
       "3  1355720        Henosisâ„¢  Jul 23, 2020        0 - 20000         0   \n",
       "6  1659180         TD Worlds   Jan 9, 2022        0 - 20000         3   \n",
       "\n",
       "   Required age  Price  DLC count  \\\n",
       "0             0  19.99          0   \n",
       "1             0   0.99          0   \n",
       "2             0   4.99          0   \n",
       "3             0   5.99          0   \n",
       "6             0  10.99          1   \n",
       "\n",
       "                                      About the game  \\\n",
       "0  Galactic Bowling is an exaggerated and stylize...   \n",
       "1  THE LAW!! Looks to be a showdown atop a train....   \n",
       "2  Jolt Project: The army now has a new robotics ...   \n",
       "3  HENOSISâ„¢ is a mysterious 2D Platform Puzzler...   \n",
       "6  TD Worlds is a dynamic, highly strategical gam...   \n",
       "\n",
       "                                 Supported languages  ...  \\\n",
       "0                                        ['English']  ...   \n",
       "1  ['English', 'French', 'Italian', 'German', 'Sp...  ...   \n",
       "2                 ['English', 'Portuguese - Brazil']  ...   \n",
       "3  ['English', 'French', 'Italian', 'German', 'Sp...  ...   \n",
       "6                   ['English', 'Russian', 'Danish']  ...   \n",
       "\n",
       "  Average playtime two weeks Median playtime forever  \\\n",
       "0                          0                       0   \n",
       "1                          0                       0   \n",
       "2                          0                       0   \n",
       "3                          0                       0   \n",
       "6                          0                       0   \n",
       "\n",
       "  Median playtime two weeks             Developers             Publishers  \\\n",
       "0                         0  Perpetual FX Creative  Perpetual FX Creative   \n",
       "1                         0           Rusty Moyher           Wild Rooster   \n",
       "2                         0         CampiÃ£o Games         CampiÃ£o Games   \n",
       "3                         0      Odd Critter Games      Odd Critter Games   \n",
       "6                         0          MAKSIM VOLKAU          MAKSIM VOLKAU   \n",
       "\n",
       "                                          Categories  \\\n",
       "0  Single-player,Multi-player,Steam Achievements,...   \n",
       "1  Single-player,Steam Achievements,Full controll...   \n",
       "2                                      Single-player   \n",
       "3              Single-player,Full controller support   \n",
       "6       Single-player,Steam Achievements,Steam Cloud   \n",
       "\n",
       "                            Genres  \\\n",
       "0              Casual,Indie,Sports   \n",
       "1                     Action,Indie   \n",
       "2  Action,Adventure,Indie,Strategy   \n",
       "3           Adventure,Casual,Indie   \n",
       "6                   Indie,Strategy   \n",
       "\n",
       "                                                Tags  \\\n",
       "0                        Indie,Casual,Sports,Bowling   \n",
       "1  Indie,Action,Pixel Graphics,2D,Retro,Arcade,Sc...   \n",
       "2                                                NaN   \n",
       "3  2D Platformer,Atmospheric,Surreal,Mystery,Puzz...   \n",
       "6  Tower Defense,Rogue-lite,RTS,Replay Value,Perm...   \n",
       "\n",
       "                                         Screenshots  \\\n",
       "0  https://cdn.akamai.steamstatic.com/steam/apps/...   \n",
       "1  https://cdn.akamai.steamstatic.com/steam/apps/...   \n",
       "2  https://cdn.akamai.steamstatic.com/steam/apps/...   \n",
       "3  https://cdn.akamai.steamstatic.com/steam/apps/...   \n",
       "6  https://cdn.akamai.steamstatic.com/steam/apps/...   \n",
       "\n",
       "                                              Movies  \n",
       "0  http://cdn.akamai.steamstatic.com/steam/apps/2...  \n",
       "1  http://cdn.akamai.steamstatic.com/steam/apps/2...  \n",
       "2  http://cdn.akamai.steamstatic.com/steam/apps/2...  \n",
       "3  http://cdn.akamai.steamstatic.com/steam/apps/2...  \n",
       "6  http://cdn.akamai.steamstatic.com/steam/apps/2...  \n",
       "\n",
       "[5 rows x 39 columns]"
      ]
     },
     "execution_count": 18,
     "metadata": {},
     "output_type": "execute_result"
    }
   ],
   "source": [
    "paid_games=df[df['Price'] > 0]\n",
    "paid_games.head()"
   ]
  },
  {
   "cell_type": "code",
   "execution_count": 19,
   "metadata": {},
   "outputs": [
    {
     "data": {
      "text/plain": [
       "(601, 39)"
      ]
     },
     "execution_count": 19,
     "metadata": {},
     "output_type": "execute_result"
    }
   ],
   "source": [
    "paid_games.shape"
   ]
  },
  {
   "cell_type": "markdown",
   "metadata": {},
   "source": [
    "##### Contar as ocorrências de cada publisher e depois filtrar as avaliaões dos jogos."
   ]
  },
  {
   "cell_type": "code",
   "execution_count": 20,
   "metadata": {},
   "outputs": [
    {
     "name": "stdout",
     "output_type": "stream",
     "text": [
      "Top 5 Publishers que mais publicam jogos pagos:  Publishers\n",
      "SEGA              4\n",
      "Big Fish Games    4\n",
      "HH-Games          3\n",
      "Sekai Project     3\n",
      "GameHouse         3\n",
      "Name: count, dtype: int64\n"
     ]
    }
   ],
   "source": [
    "publisher_counts = paid_games['Publishers'].value_counts()\n",
    "top_5_publishers = publisher_counts.head(5)\n",
    "\n",
    "print(\"Top 5 Publishers que mais publicam jogos pagos: \", top_5_publishers)"
   ]
  },
  {
   "cell_type": "code",
   "execution_count": 21,
   "metadata": {},
   "outputs": [
    {
     "name": "stdout",
     "output_type": "stream",
     "text": [
      "Número médio de avaliações positivas: 354.18\n",
      "Número mediano de avaliações positivas: 31.00\n"
     ]
    }
   ],
   "source": [
    "# Jogos dos top 5 publishers\n",
    "top_5_games = paid_games[paid_games['Publishers'].isin(top_5_publishers.index)]\n",
    "\n",
    "mean_positive = top_5_games['Positive'].mean()\n",
    "median_positive = top_5_games['Positive'].median()\n",
    "\n",
    "print(f\"Número médio de avaliações positivas: {mean_positive:.2f}\")\n",
    "print(f\"Número mediano de avaliações positivas: {median_positive:.2f}\")"
   ]
  },
  {
   "cell_type": "markdown",
   "metadata": {},
   "source": [
    "####Pergunta4: O número de jogos que suporta o sistema operacional LINUX cresceu entre 2018 e 2022?"
   ]
  },
  {
   "cell_type": "code",
   "execution_count": 22,
   "metadata": {},
   "outputs": [
    {
     "name": "stdout",
     "output_type": "stream",
     "text": [
      "['Henosisâ„¢' 'Deadlings: Rotten Edition' 'Royal Battleships'\n",
      " 'Hero of the Kingdom II' 'Steam Squad' 'Aerofly FS 2 Flight Simulator'\n",
      " 'Unhappy Ever After' 'Bepuzzled Kittens Jigsaw Puzzle'\n",
      " 'Vanguard Princess' 'Deadfall Adventures']\n"
     ]
    }
   ],
   "source": [
    "# Jogos com Linux (coluna LINUX = true)\n",
    "linux_games = df[df['Linux'] == True]['Name'].to_numpy()\n",
    "\n",
    "print(linux_games[:10])  # Exemplo pra ver se funcionou"
   ]
  },
  {
   "cell_type": "markdown",
   "metadata": {},
   "source": [
    "#### COmo o numpy so criou um array com os nomes dos jogos, fiz a filtragem novamente. Tambem utilizei o .copy pois deu o mesmo warning de antes. "
   ]
  },
  {
   "cell_type": "code",
   "execution_count": 23,
   "metadata": {},
   "outputs": [],
   "source": [
    "# Filtrando os jogos que suportam Linux e criando uma cópia do DataFrame para evitar warning\n",
    "linux_games_df = df[df['Linux'] == True].copy()\n"
   ]
  },
  {
   "cell_type": "code",
   "execution_count": 24,
   "metadata": {},
   "outputs": [
    {
     "name": "stdout",
     "output_type": "stream",
     "text": [
      "year\n",
      "2018    11\n",
      "2019    16\n",
      "2020    15\n",
      "2021    18\n",
      "2022    13\n",
      "Name: count, dtype: int64\n"
     ]
    }
   ],
   "source": [
    "# Datetime do pandas\n",
    "linux_games_df['Release date'] = pd.to_datetime(linux_games_df['Release date'], errors='coerce')\n",
    "linux_games_df['year'] = linux_games_df['Release date'].dt.year\n",
    "games_2018_2022 = linux_games_df[(linux_games_df['year'] >= 2018) & (linux_games_df['year'] <= 2022)]\n",
    "\n",
    "# Contando o número de jogos por ano\n",
    "games_per_year = games_2018_2022['year'].value_counts().sort_index()\n",
    "\n",
    "print(games_per_year)"
   ]
  },
  {
   "cell_type": "markdown",
   "metadata": {},
   "source": [
    "#######Teve um crescimento dos jogos! Apesar do numero reduzido de jogos por causa co corte nos dados originais da pra perceber que cresceu."
   ]
  },
  {
   "cell_type": "markdown",
   "metadata": {},
   "source": [
    "## Graficos"
   ]
  },
  {
   "cell_type": "code",
   "execution_count": 26,
   "metadata": {},
   "outputs": [
    {
     "ename": "ModuleNotFoundError",
     "evalue": "No module named 'matplotlib'",
     "output_type": "error",
     "traceback": [
      "\u001b[1;31m---------------------------------------------------------------------------\u001b[0m",
      "\u001b[1;31mModuleNotFoundError\u001b[0m                       Traceback (most recent call last)",
      "Cell \u001b[1;32mIn[26], line 1\u001b[0m\n\u001b[1;32m----> 1\u001b[0m \u001b[38;5;28;01mimport\u001b[39;00m \u001b[38;5;21;01mmatplotlib\u001b[39;00m\u001b[38;5;21;01m.\u001b[39;00m\u001b[38;5;21;01mpyplot\u001b[39;00m \u001b[38;5;28;01mas\u001b[39;00m \u001b[38;5;21;01mplt\u001b[39;00m\n",
      "\u001b[1;31mModuleNotFoundError\u001b[0m: No module named 'matplotlib'"
     ]
    }
   ],
   "source": [
    "import matplotlib.pyplot as plt"
   ]
  },
  {
   "cell_type": "code",
   "execution_count": null,
   "metadata": {},
   "outputs": [
    {
     "ename": "NameError",
     "evalue": "name 'df' is not defined",
     "output_type": "error",
     "traceback": [
      "\u001b[1;31m---------------------------------------------------------------------------\u001b[0m",
      "\u001b[1;31mNameError\u001b[0m                                 Traceback (most recent call last)",
      "Cell \u001b[1;32mIn[6], line 2\u001b[0m\n\u001b[0;32m      1\u001b[0m \u001b[38;5;66;03m# Contando a quantidade de jogos para cada sistema operacional\u001b[39;00m\n\u001b[1;32m----> 2\u001b[0m os_counts \u001b[38;5;241m=\u001b[39m \u001b[43mdf\u001b[49m[[\u001b[38;5;124m'\u001b[39m\u001b[38;5;124mLinux\u001b[39m\u001b[38;5;124m'\u001b[39m, \u001b[38;5;124m'\u001b[39m\u001b[38;5;124mWindows\u001b[39m\u001b[38;5;124m'\u001b[39m, \u001b[38;5;124m'\u001b[39m\u001b[38;5;124mMac\u001b[39m\u001b[38;5;124m'\u001b[39m]]\u001b[38;5;241m.\u001b[39msum()\n\u001b[0;32m      4\u001b[0m \u001b[38;5;66;03m# Calculando o percentual de jogos por sistema\u001b[39;00m\n\u001b[0;32m      5\u001b[0m os_percentages \u001b[38;5;241m=\u001b[39m (os_counts \u001b[38;5;241m/\u001b[39m \u001b[38;5;28mlen\u001b[39m(df)) \u001b[38;5;241m*\u001b[39m \u001b[38;5;241m100\u001b[39m\n",
      "\u001b[1;31mNameError\u001b[0m: name 'df' is not defined"
     ]
    }
   ],
   "source": [
    "# Contando a quantidade de jogos para cada sistema operacional\n",
    "os_counts = df[['Linux', 'Windows', 'Mac']].sum()\n",
    "\n",
    "# Calculando o percentual de jogos por sistema\n",
    "os_percentages = (os_counts / len(df)) * 100\n",
    "\n",
    "# Plotando o gráfico de barras\n",
    "plt.figure(figsize=(8, 6))\n",
    "os_percentages.plot(kind='bar', color=['#1f77b4', '#ff7f0e', '#2ca02c'])\n",
    "plt.title('Percentual de Jogos que Suportam Cada Sistema Operacional')\n",
    "plt.ylabel('Percentual (%)')\n",
    "plt.xlabel('Sistema Operacional')\n",
    "plt.xticks(rotation=0)\n",
    "plt.ylim(0, 100)\n",
    "plt.tight_layout()\n",
    "\n",
    "# Exibindo o gráfico\n",
    "plt.show()\n"
   ]
  }
 ],
 "metadata": {
  "kernelspec": {
   "display_name": "env_projeto",
   "language": "python",
   "name": "python3"
  },
  "language_info": {
   "codemirror_mode": {
    "name": "ipython",
    "version": 3
   },
   "file_extension": ".py",
   "mimetype": "text/x-python",
   "name": "python",
   "nbconvert_exporter": "python",
   "pygments_lexer": "ipython3",
   "version": "3.10.15"
  }
 },
 "nbformat": 4,
 "nbformat_minor": 2
}
